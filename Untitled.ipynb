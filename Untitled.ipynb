{
 "cells": [
  {
   "cell_type": "code",
   "execution_count": 22,
   "metadata": {},
   "outputs": [
    {
     "name": "stdout",
     "output_type": "stream",
     "text": [
      "b'\\x08E7\\x0b\\x01\\x00\\x00\\x00\\xc8A;\\x0b\\x01\\x00\\x00\\x00'\n"
     ]
    }
   ],
   "source": [
    "import tensorflow\n",
    "import glob\n",
    "import numpy as np\n",
    "folder = glob.glob('/Users/chenjing/PycharmProjects/mytask/test/*')\n",
    "kind = np.array([[1],[2,3]]).tostring()\n",
    "print(kind)\n",
    "for file in folder:\n",
    "    content = np.load(file)\n",
    "    content=np.array([np.transpose(content)])\n",
    "    "
   ]
  },
  {
   "cell_type": "code",
   "execution_count": null,
   "metadata": {
    "collapsed": true
   },
   "outputs": [],
   "source": [
    "import tensorflow as tf\n",
    "import glob\n",
    "import numpy as np\n",
    "name = '/Users/chenjing/PycharmProjects/mytask/test/test.bin'\n",
    "data = np.array([1,2,3,4,5]).tostring()\n",
    "f = open(name, 'wb')\n",
    "f.write(data)\n",
    "def read(filename_queue):\n",
    "    class CIFAR10Record(object):\n",
    "        pass\n",
    "    result = CIFAR10Record()\n",
    "    label_bytes = 1  # 2 for CIFAR-100\n",
    "    result.height = 2\n",
    "    result.width = 2\n",
    "    result.depth = 1\n",
    "    image_bytes = result.height * result.width * result.depth\n",
    "    # Every record consists of a label followed by the image, with a\n",
    "    # fixed number of bytes for each.\n",
    "    record_bytes = label_bytes + image_bytes\n",
    "\n",
    "    # Read a record, getting filenames from the filename_queue.  No\n",
    "    # header or footer in the CIFAR-10 format, so we leave header_bytes\n",
    "    # and footer_bytes at their default of 0.\n",
    "    reader = tf.FixedLengthRecordReader(record_bytes=record_bytes)\n",
    "    result.key, value = reader.read(filename_queue)\n",
    "\n",
    "    # Convert from a string to a vector of uint8 that is record_bytes long.\n",
    "    record_bytes = tf.decode_raw(value, tf.uint8)\n",
    "    return record_bytes\n",
    "sv = tf.train.Supervisor(logdir='save')\n",
    "with sv.managed_session() as sess:\n",
    " data = read(.......)\n",
    " print(sess.run(data))    \n",
    "sess = tf.InteractiveSession()\n",
    "data = read(tf.train.string_input_producer([name]))\n",
    "print(data.eval())\n",
    "sess.close()"
   ]
  },
  {
   "cell_type": "code",
   "execution_count": null,
   "metadata": {
    "collapsed": true
   },
   "outputs": [],
   "source": []
  },
  {
   "cell_type": "code",
   "execution_count": null,
   "metadata": {
    "collapsed": true
   },
   "outputs": [],
   "source": []
  }
 ],
 "metadata": {
  "kernelspec": {
   "display_name": "Python 3",
   "language": "python",
   "name": "python3"
  },
  "language_info": {
   "codemirror_mode": {
    "name": "ipython",
    "version": 3
   },
   "file_extension": ".py",
   "mimetype": "text/x-python",
   "name": "python",
   "nbconvert_exporter": "python",
   "pygments_lexer": "ipython3",
   "version": "3.6.2"
  }
 },
 "nbformat": 4,
 "nbformat_minor": 2
}
